{
 "cells": [
  {
   "cell_type": "markdown",
   "id": "65ad5772",
   "metadata": {},
   "source": [
    "# PyCity Schools Analysis\n",
    "\n",
    "Your analysis here\n"
   ]
  },
  {
   "cell_type": "code",
   "execution_count": 1,
   "id": "0b569d49",
   "metadata": {},
   "outputs": [
    {
     "data": {
      "text/html": [
       "<div>\n",
       "<style scoped>\n",
       "    .dataframe tbody tr th:only-of-type {\n",
       "        vertical-align: middle;\n",
       "    }\n",
       "\n",
       "    .dataframe tbody tr th {\n",
       "        vertical-align: top;\n",
       "    }\n",
       "\n",
       "    .dataframe thead th {\n",
       "        text-align: right;\n",
       "    }\n",
       "</style>\n",
       "<table border=\"1\" class=\"dataframe\">\n",
       "  <thead>\n",
       "    <tr style=\"text-align: right;\">\n",
       "      <th></th>\n",
       "      <th>Student ID</th>\n",
       "      <th>student_name</th>\n",
       "      <th>gender</th>\n",
       "      <th>grade</th>\n",
       "      <th>school_name</th>\n",
       "      <th>reading_score</th>\n",
       "      <th>math_score</th>\n",
       "      <th>School ID</th>\n",
       "      <th>type</th>\n",
       "      <th>size</th>\n",
       "      <th>budget</th>\n",
       "    </tr>\n",
       "  </thead>\n",
       "  <tbody>\n",
       "    <tr>\n",
       "      <th>0</th>\n",
       "      <td>0</td>\n",
       "      <td>Paul Bradley</td>\n",
       "      <td>M</td>\n",
       "      <td>9th</td>\n",
       "      <td>Huang High School</td>\n",
       "      <td>66</td>\n",
       "      <td>79</td>\n",
       "      <td>0</td>\n",
       "      <td>District</td>\n",
       "      <td>2917</td>\n",
       "      <td>1910635</td>\n",
       "    </tr>\n",
       "    <tr>\n",
       "      <th>1</th>\n",
       "      <td>1</td>\n",
       "      <td>Victor Smith</td>\n",
       "      <td>M</td>\n",
       "      <td>12th</td>\n",
       "      <td>Huang High School</td>\n",
       "      <td>94</td>\n",
       "      <td>61</td>\n",
       "      <td>0</td>\n",
       "      <td>District</td>\n",
       "      <td>2917</td>\n",
       "      <td>1910635</td>\n",
       "    </tr>\n",
       "    <tr>\n",
       "      <th>2</th>\n",
       "      <td>2</td>\n",
       "      <td>Kevin Rodriguez</td>\n",
       "      <td>M</td>\n",
       "      <td>12th</td>\n",
       "      <td>Huang High School</td>\n",
       "      <td>90</td>\n",
       "      <td>60</td>\n",
       "      <td>0</td>\n",
       "      <td>District</td>\n",
       "      <td>2917</td>\n",
       "      <td>1910635</td>\n",
       "    </tr>\n",
       "    <tr>\n",
       "      <th>3</th>\n",
       "      <td>3</td>\n",
       "      <td>Dr. Richard Scott</td>\n",
       "      <td>M</td>\n",
       "      <td>12th</td>\n",
       "      <td>Huang High School</td>\n",
       "      <td>67</td>\n",
       "      <td>58</td>\n",
       "      <td>0</td>\n",
       "      <td>District</td>\n",
       "      <td>2917</td>\n",
       "      <td>1910635</td>\n",
       "    </tr>\n",
       "    <tr>\n",
       "      <th>4</th>\n",
       "      <td>4</td>\n",
       "      <td>Bonnie Ray</td>\n",
       "      <td>F</td>\n",
       "      <td>9th</td>\n",
       "      <td>Huang High School</td>\n",
       "      <td>97</td>\n",
       "      <td>84</td>\n",
       "      <td>0</td>\n",
       "      <td>District</td>\n",
       "      <td>2917</td>\n",
       "      <td>1910635</td>\n",
       "    </tr>\n",
       "  </tbody>\n",
       "</table>\n",
       "</div>"
      ],
      "text/plain": [
       "   Student ID       student_name gender grade        school_name  \\\n",
       "0           0       Paul Bradley      M   9th  Huang High School   \n",
       "1           1       Victor Smith      M  12th  Huang High School   \n",
       "2           2    Kevin Rodriguez      M  12th  Huang High School   \n",
       "3           3  Dr. Richard Scott      M  12th  Huang High School   \n",
       "4           4         Bonnie Ray      F   9th  Huang High School   \n",
       "\n",
       "   reading_score  math_score  School ID      type  size   budget  \n",
       "0             66          79          0  District  2917  1910635  \n",
       "1             94          61          0  District  2917  1910635  \n",
       "2             90          60          0  District  2917  1910635  \n",
       "3             67          58          0  District  2917  1910635  \n",
       "4             97          84          0  District  2917  1910635  "
      ]
     },
     "execution_count": 1,
     "metadata": {},
     "output_type": "execute_result"
    }
   ],
   "source": [
    "# Import Packages\n",
    "import pandas as pd\n",
    "from pathlib import Path\n",
    "\n",
    "# File Paths\n",
    "load_school_data = Path(\"Resources/schools_complete.csv\")\n",
    "load_student_data = Path(\"Resources/students_complete.csv\")\n",
    "\n",
    "# Store Data Files in Pandas DataFrames\n",
    "school_data = pd.read_csv(load_school_data)\n",
    "student_data = pd.read_csv(load_student_data)\n",
    "\n",
    "# Consolidate Data\n",
    "all_school_data = pd.merge(student_data, school_data, how=\"left\", on=[\"school_name\", \"school_name\"])\n",
    "all_school_data.head()"
   ]
  },
  {
   "cell_type": "markdown",
   "id": "6ceb5e21",
   "metadata": {},
   "source": [
    "## District Summary"
   ]
  },
  {
   "cell_type": "code",
   "execution_count": 10,
   "id": "e5422242",
   "metadata": {},
   "outputs": [
    {
     "data": {
      "text/plain": [
       "15"
      ]
     },
     "execution_count": 10,
     "metadata": {},
     "output_type": "execute_result"
    }
   ],
   "source": [
    "# Calculate Total Number of Unique Schools\n",
    "school_count = len(all_school_data[\"school_name\"].unique())\n",
    "school_count"
   ]
  },
  {
   "cell_type": "code",
   "execution_count": 12,
   "id": "acf26363",
   "metadata": {},
   "outputs": [
    {
     "data": {
      "text/plain": [
       "39170"
      ]
     },
     "execution_count": 12,
     "metadata": {},
     "output_type": "execute_result"
    }
   ],
   "source": [
    "# Calculate Total Number of Students\n",
    "student_count = len(all_school_data[\"Student ID\"].unique())\n",
    "student_count"
   ]
  },
  {
   "cell_type": "code",
   "execution_count": 21,
   "id": "bfba27e8",
   "metadata": {},
   "outputs": [
    {
     "data": {
      "text/plain": [
       "24649428"
      ]
     },
     "execution_count": 21,
     "metadata": {},
     "output_type": "execute_result"
    }
   ],
   "source": [
    "# Calculate the Total Budget\n",
    "total_budget = sum(all_school_data[\"budget\"].unique())\n",
    "total_budget"
   ]
  },
  {
   "cell_type": "code",
   "execution_count": 22,
   "id": "021ff481",
   "metadata": {},
   "outputs": [
    {
     "data": {
      "text/plain": [
       "78.98537145774827"
      ]
     },
     "execution_count": 22,
     "metadata": {},
     "output_type": "execute_result"
    }
   ],
   "source": [
    "# Calculate Average Math Score\n",
    "average_math_score = all_school_data[\"math_score\"].mean()\n",
    "average_math_score"
   ]
  },
  {
   "cell_type": "code",
   "execution_count": 23,
   "id": "180cbfee",
   "metadata": {},
   "outputs": [
    {
     "data": {
      "text/plain": [
       "81.87784018381414"
      ]
     },
     "execution_count": 23,
     "metadata": {},
     "output_type": "execute_result"
    }
   ],
   "source": [
    "# Calculate Average Reading Score\n",
    "average_reading_score = all_school_data[\"reading_score\"].mean()\n",
    "average_reading_score"
   ]
  },
  {
   "cell_type": "code",
   "execution_count": 24,
   "id": "7eca722e",
   "metadata": {},
   "outputs": [
    {
     "data": {
      "text/plain": [
       "74.9808526933878"
      ]
     },
     "execution_count": 24,
     "metadata": {},
     "output_type": "execute_result"
    }
   ],
   "source": [
    "# Calculate Percentage Passing Math\n",
    "passing_math_count = all_school_data[(all_school_data[\"math_score\"] >= 70)].count()[\"student_name\"]\n",
    "passing_math_percentage = passing_math_count / float(student_count) * 100\n",
    "passing_math_percentage"
   ]
  },
  {
   "cell_type": "code",
   "execution_count": 25,
   "id": "3eadac0c",
   "metadata": {},
   "outputs": [
    {
     "data": {
      "text/plain": [
       "85.80546336482001"
      ]
     },
     "execution_count": 25,
     "metadata": {},
     "output_type": "execute_result"
    }
   ],
   "source": [
    "# Calculate Percentage Passing Reading\n",
    "passing_reading_count = all_school_data[(all_school_data[\"reading_score\"] >= 70)].count()[\"student_name\"]\n",
    "passing_reading_percentage = passing_reading_count / float(student_count) * 100\n",
    "passing_reading_percentage"
   ]
  },
  {
   "cell_type": "code",
   "execution_count": 26,
   "id": "6db60bab",
   "metadata": {},
   "outputs": [
    {
     "data": {
      "text/plain": [
       "65.17232575950983"
      ]
     },
     "execution_count": 26,
     "metadata": {},
     "output_type": "execute_result"
    }
   ],
   "source": [
    "# Calculate Overall Passing Rate for Students Passing Math and Reading\n",
    "passing_math_reading_count = all_school_data[\n",
    "    (all_school_data[\"math_score\"] >= 70) & (all_school_data[\"reading_score\"] >= 70)\n",
    "].count()[\"student_name\"]\n",
    "overall_passing_rate = passing_math_reading_count /  float(student_count) * 100\n",
    "overall_passing_rate"
   ]
  },
  {
   "cell_type": "code",
   "execution_count": 28,
   "id": "7a866a0d",
   "metadata": {},
   "outputs": [
    {
     "data": {
      "text/html": [
       "<div>\n",
       "<style scoped>\n",
       "    .dataframe tbody tr th:only-of-type {\n",
       "        vertical-align: middle;\n",
       "    }\n",
       "\n",
       "    .dataframe tbody tr th {\n",
       "        vertical-align: top;\n",
       "    }\n",
       "\n",
       "    .dataframe thead th {\n",
       "        text-align: right;\n",
       "    }\n",
       "</style>\n",
       "<table border=\"1\" class=\"dataframe\">\n",
       "  <thead>\n",
       "    <tr style=\"text-align: right;\">\n",
       "      <th></th>\n",
       "      <th>Total Schools</th>\n",
       "      <th>Total Students</th>\n",
       "      <th>Total Budget</th>\n",
       "      <th>Average Math Score</th>\n",
       "      <th>Average Reading Score</th>\n",
       "      <th>% Passing Math</th>\n",
       "      <th>% Passing Reading</th>\n",
       "      <th>% Overall Passing</th>\n",
       "    </tr>\n",
       "  </thead>\n",
       "  <tbody>\n",
       "    <tr>\n",
       "      <th>0</th>\n",
       "      <td>15</td>\n",
       "      <td>39,170</td>\n",
       "      <td>$24,649,428.00</td>\n",
       "      <td>78.985371</td>\n",
       "      <td>81.87784</td>\n",
       "      <td>74.980853</td>\n",
       "      <td>85.805463</td>\n",
       "      <td>65.172326</td>\n",
       "    </tr>\n",
       "  </tbody>\n",
       "</table>\n",
       "</div>"
      ],
      "text/plain": [
       "   Total Schools Total Students    Total Budget  Average Math Score  \\\n",
       "0             15         39,170  $24,649,428.00           78.985371   \n",
       "\n",
       "   Average Reading Score  % Passing Math  % Passing Reading  % Overall Passing  \n",
       "0               81.87784       74.980853          85.805463          65.172326  "
      ]
     },
     "execution_count": 28,
     "metadata": {},
     "output_type": "execute_result"
    }
   ],
   "source": [
    "# Create DataFrame for Calculations\n",
    "district_summary = pd.DataFrame({\n",
    "    \"Total Schools\": [school_count], \"Total Students\": [student_count], \"Total Budget\": [total_budget],\n",
    "    \"Average Math Score\": [average_math_score], \"Average Reading Score\": [average_reading_score],\n",
    "    \"% Passing Math\": [passing_math_percentage], \"% Passing Reading\": [passing_reading_percentage],\n",
    "    \"% Overall Passing\": [overall_passing_rate]})\n",
    "district_summary[\"Total Students\"] = district_summary[\"Total Students\"].map(\"{:,}\".format)\n",
    "district_summary[\"Total Budget\"] = district_summary[\"Total Budget\"].map(\"${:,.2f}\".format)\n",
    "district_summary"
   ]
  },
  {
   "cell_type": "markdown",
   "id": "569c7048",
   "metadata": {},
   "source": [
    "## School Summary"
   ]
  },
  {
   "cell_type": "code",
   "execution_count": 3,
   "id": "4094e6b8",
   "metadata": {},
   "outputs": [
    {
     "data": {
      "text/plain": [
       "0         Huang High School\n",
       "1      Figueroa High School\n",
       "2       Shelton High School\n",
       "3     Hernandez High School\n",
       "4       Griffin High School\n",
       "5        Wilson High School\n",
       "6       Cabrera High School\n",
       "7        Bailey High School\n",
       "8        Holden High School\n",
       "9          Pena High School\n",
       "10       Wright High School\n",
       "11    Rodriguez High School\n",
       "12      Johnson High School\n",
       "13         Ford High School\n",
       "14       Thomas High School\n",
       "Name: school_name, dtype: object"
      ]
     },
     "execution_count": 3,
     "metadata": {},
     "output_type": "execute_result"
    }
   ],
   "source": [
    "# Find All School Names\n",
    "school_names = school_data[\"school_name\"]\n",
    "school_names"
   ]
  },
  {
   "cell_type": "code",
   "execution_count": 4,
   "id": "69248db9",
   "metadata": {},
   "outputs": [],
   "source": [
    "# Find All School Types\n",
    "school_types = school_data[\"type\"]"
   ]
  },
  {
   "cell_type": "code",
   "execution_count": 5,
   "id": "dc98a6fd",
   "metadata": {},
   "outputs": [
    {
     "data": {
      "text/plain": [
       "0     2917\n",
       "1     2949\n",
       "2     1761\n",
       "3     4635\n",
       "4     1468\n",
       "5     2283\n",
       "6     1858\n",
       "7     4976\n",
       "8      427\n",
       "9      962\n",
       "10    1800\n",
       "11    3999\n",
       "12    4761\n",
       "13    2739\n",
       "14    1635\n",
       "Name: size, dtype: int64"
      ]
     },
     "execution_count": 5,
     "metadata": {},
     "output_type": "execute_result"
    }
   ],
   "source": [
    "# Calculate Total Student Count Per School\n",
    "per_school_counts = school_data[\"size\"]\n",
    "per_school_counts"
   ]
  },
  {
   "cell_type": "code",
   "execution_count": 6,
   "id": "4be20c22",
   "metadata": {},
   "outputs": [],
   "source": [
    "# Calculate Total School Budget and Budget Per Student\n",
    "per_school_budget = school_data[\"budget\"]\n",
    "per_school_capita = per_school_budget / per_school_counts"
   ]
  },
  {
   "cell_type": "code",
   "execution_count": 7,
   "id": "484a8e9d",
   "metadata": {},
   "outputs": [],
   "source": [
    "# Calculate Average Math and Reading Score Per School\n",
    "per_school_math = [student_data[(student_data[\"school_name\"] == \"Huang High School\")][\"math_score\"].mean(),\n",
    "                   student_data[(student_data[\"school_name\"] == \"Figueroa High School\")][\"math_score\"].mean(),\n",
    "                   student_data[(student_data[\"school_name\"] == \"Shelton High School\")][\"math_score\"].mean(),\n",
    "                   student_data[(student_data[\"school_name\"] == \"Hernandez High School\")][\"math_score\"].mean(),\n",
    "                   student_data[(student_data[\"school_name\"] == \"Griffin High School\")][\"math_score\"].mean(),\n",
    "                   student_data[(student_data[\"school_name\"] == \"Wilson High School\")][\"math_score\"].mean(),\n",
    "                   student_data[(student_data[\"school_name\"] == \"Cabrera High School\")][\"math_score\"].mean(),\n",
    "                   student_data[(student_data[\"school_name\"] == \"Bailey High School\")][\"math_score\"].mean(),\n",
    "                   student_data[(student_data[\"school_name\"] == \"Holden High School\")][\"math_score\"].mean(),\n",
    "                   student_data[(student_data[\"school_name\"] == \"Pena High School\")][\"math_score\"].mean(),\n",
    "                   student_data[(student_data[\"school_name\"] == \"Wright High School\")][\"math_score\"].mean(),\n",
    "                   student_data[(student_data[\"school_name\"] == \"Rodriguez High School\")][\"math_score\"].mean(),\n",
    "                   student_data[(student_data[\"school_name\"] == \"Johnson High School\")][\"math_score\"].mean(),\n",
    "                   student_data[(student_data[\"school_name\"] == \"Ford High School\")][\"math_score\"].mean(),\n",
    "                   student_data[(student_data[\"school_name\"] == \"Thomas High School\")][\"math_score\"].mean()]\n",
    "per_school_reading = [student_data[(student_data[\"school_name\"] == \"Huang High School\")][\"reading_score\"].mean(),\n",
    "                      student_data[(student_data[\"school_name\"] == \"Figueroa High School\")][\"reading_score\"].mean(),\n",
    "                      student_data[(student_data[\"school_name\"] == \"Shelton High School\")][\"reading_score\"].mean(),\n",
    "                      student_data[(student_data[\"school_name\"] == \"Hernandez High School\")][\"reading_score\"].mean(),\n",
    "                      student_data[(student_data[\"school_name\"] == \"Griffin High School\")][\"reading_score\"].mean(),\n",
    "                      student_data[(student_data[\"school_name\"] == \"Wilson High School\")][\"reading_score\"].mean(),\n",
    "                      student_data[(student_data[\"school_name\"] == \"Cabrera High School\")][\"reading_score\"].mean(),\n",
    "                      student_data[(student_data[\"school_name\"] == \"Bailey High School\")][\"reading_score\"].mean(),\n",
    "                      student_data[(student_data[\"school_name\"] == \"Holden High School\")][\"reading_score\"].mean(),\n",
    "                      student_data[(student_data[\"school_name\"] == \"Pena High School\")][\"reading_score\"].mean(),\n",
    "                      student_data[(student_data[\"school_name\"] == \"Wright High School\")][\"reading_score\"].mean(),\n",
    "                      student_data[(student_data[\"school_name\"] == \"Rodriguez High School\")][\"reading_score\"].mean(),\n",
    "                      student_data[(student_data[\"school_name\"] == \"Johnson High School\")][\"reading_score\"].mean(),\n",
    "                      student_data[(student_data[\"school_name\"] == \"Ford High School\")][\"reading_score\"].mean(),\n",
    "                      student_data[(student_data[\"school_name\"] == \"Thomas High School\")][\"reading_score\"].mean()]"
   ]
  },
  {
   "cell_type": "code",
   "execution_count": 8,
   "id": "e83dd9dc",
   "metadata": {},
   "outputs": [],
   "source": [
    "# Calculate Number of Students Per School Passing Math\n",
    "students_passing_math = student_data[(student_data[\"math_score\"] >= 70)]\n",
    "school_students_passing_math = students_passing_math.groupby(student_data[\"school_name\"]).size()"
   ]
  },
  {
   "cell_type": "code",
   "execution_count": 21,
   "id": "20abb619",
   "metadata": {},
   "outputs": [],
   "source": [
    "# Calculate Number of Students Per School Passing Reading\n",
    "students_passing_reading = student_data[(student_data[\"reading_score\"] >= 70)]\n",
    "school_students_passing_reading = students_passing_reading.groupby(student_data[\"school_name\"]).size()"
   ]
  },
  {
   "cell_type": "code",
   "execution_count": 22,
   "id": "fa9e4263",
   "metadata": {
    "scrolled": true
   },
   "outputs": [],
   "source": [
    "# Calculate Number of Students Per School Passing Overall\n",
    "students_passing_math_and_reading = student_data[(student_data[\"reading_score\"] >= 70) & (student_data[\"math_score\"] >= 70)]\n",
    "school_students_passing_math_and_reading = students_passing_math_and_reading.groupby([\"school_name\"]).size()"
   ]
  },
  {
   "cell_type": "code",
   "execution_count": 23,
   "id": "440e62d9",
   "metadata": {},
   "outputs": [],
   "source": [
    "# Calculate Passing Rates Per School for Math, Reading, and Overall\n",
    "per_school_passing_math = [1916 / 2917 * 100, 1946 / 2949 * 100, 1653 / 1761 * 100, 3094 / 4635 * 100, 1371 / 1468 * 100,\n",
    "                           2143 / 2283 * 100, 1749 / 1858 * 100, 3318 / 4976 * 100, 395 / 427 * 100, 910 / 962 * 100,\n",
    "                           1680 / 1800 * 100, 2654 / 3999 * 100, 3145 / 4761 * 100, 1871 / 2739 * 100, 1525 / 1635 * 100]\n",
    "per_school_passing_reading = [2372 / 2917 * 100, 2381 / 2949 * 100, 1688 / 1761 * 100, 3748 / 4635 * 100, 1426 / 1468 * 100,\n",
    "                              2204 / 2283 * 100, 1803 / 1858 * 100, 4077 / 4976 * 100, 411 / 427 * 100, 923 / 962 * 100,\n",
    "                              1739 / 1800 * 100, 3208 / 3999 * 100, 3867 / 4761 * 100, 2172 / 2739 * 100, 1591 / 1635 * 100]\n",
    "overall_passing_rate = school_students_passing_math_and_reading / per_school_counts * 100"
   ]
  },
  {
   "cell_type": "code",
   "execution_count": 26,
   "id": "f94c57d9",
   "metadata": {},
   "outputs": [
    {
     "data": {
      "text/html": [
       "<div>\n",
       "<style scoped>\n",
       "    .dataframe tbody tr th:only-of-type {\n",
       "        vertical-align: middle;\n",
       "    }\n",
       "\n",
       "    .dataframe tbody tr th {\n",
       "        vertical-align: top;\n",
       "    }\n",
       "\n",
       "    .dataframe thead th {\n",
       "        text-align: right;\n",
       "    }\n",
       "</style>\n",
       "<table border=\"1\" class=\"dataframe\">\n",
       "  <thead>\n",
       "    <tr style=\"text-align: right;\">\n",
       "      <th></th>\n",
       "      <th>School Type</th>\n",
       "      <th>Total Students</th>\n",
       "      <th>Total School Budget</th>\n",
       "      <th>Per Student Budget</th>\n",
       "      <th>Average Math Score</th>\n",
       "      <th>Average Reading Score</th>\n",
       "      <th>% Passing Math</th>\n",
       "      <th>% Passing Reading</th>\n",
       "      <th>%Overall Passing</th>\n",
       "    </tr>\n",
       "  </thead>\n",
       "  <tbody>\n",
       "    <tr>\n",
       "      <th>Huang High School</th>\n",
       "      <td>District</td>\n",
       "      <td>2917</td>\n",
       "      <td>$1,910,635.00</td>\n",
       "      <td>$655.00</td>\n",
       "      <td>76.629414</td>\n",
       "      <td>81.182722</td>\n",
       "      <td>65.683922</td>\n",
       "      <td>81.316421</td>\n",
       "      <td>Bailey High School      NaN\n",
       "Cabrera High Schoo...</td>\n",
       "    </tr>\n",
       "    <tr>\n",
       "      <th>Figueroa High School</th>\n",
       "      <td>District</td>\n",
       "      <td>2949</td>\n",
       "      <td>$1,884,411.00</td>\n",
       "      <td>$639.00</td>\n",
       "      <td>76.711767</td>\n",
       "      <td>81.158020</td>\n",
       "      <td>65.988471</td>\n",
       "      <td>80.739234</td>\n",
       "      <td>Bailey High School      NaN\n",
       "Cabrera High Schoo...</td>\n",
       "    </tr>\n",
       "    <tr>\n",
       "      <th>Shelton High School</th>\n",
       "      <td>Charter</td>\n",
       "      <td>1761</td>\n",
       "      <td>$1,056,600.00</td>\n",
       "      <td>$600.00</td>\n",
       "      <td>83.359455</td>\n",
       "      <td>83.725724</td>\n",
       "      <td>93.867121</td>\n",
       "      <td>95.854628</td>\n",
       "      <td>Bailey High School      NaN\n",
       "Cabrera High Schoo...</td>\n",
       "    </tr>\n",
       "    <tr>\n",
       "      <th>Hernandez High School</th>\n",
       "      <td>District</td>\n",
       "      <td>4635</td>\n",
       "      <td>$3,022,020.00</td>\n",
       "      <td>$652.00</td>\n",
       "      <td>77.289752</td>\n",
       "      <td>80.934412</td>\n",
       "      <td>66.752967</td>\n",
       "      <td>80.862999</td>\n",
       "      <td>Bailey High School      NaN\n",
       "Cabrera High Schoo...</td>\n",
       "    </tr>\n",
       "    <tr>\n",
       "      <th>Griffin High School</th>\n",
       "      <td>Charter</td>\n",
       "      <td>1468</td>\n",
       "      <td>$917,500.00</td>\n",
       "      <td>$625.00</td>\n",
       "      <td>83.351499</td>\n",
       "      <td>83.816757</td>\n",
       "      <td>93.392371</td>\n",
       "      <td>97.138965</td>\n",
       "      <td>Bailey High School      NaN\n",
       "Cabrera High Schoo...</td>\n",
       "    </tr>\n",
       "    <tr>\n",
       "      <th>Wilson High School</th>\n",
       "      <td>Charter</td>\n",
       "      <td>2283</td>\n",
       "      <td>$1,319,574.00</td>\n",
       "      <td>$578.00</td>\n",
       "      <td>83.274201</td>\n",
       "      <td>83.989488</td>\n",
       "      <td>93.867718</td>\n",
       "      <td>96.539641</td>\n",
       "      <td>Bailey High School      NaN\n",
       "Cabrera High Schoo...</td>\n",
       "    </tr>\n",
       "    <tr>\n",
       "      <th>Cabrera High School</th>\n",
       "      <td>Charter</td>\n",
       "      <td>1858</td>\n",
       "      <td>$1,081,356.00</td>\n",
       "      <td>$582.00</td>\n",
       "      <td>83.061895</td>\n",
       "      <td>83.975780</td>\n",
       "      <td>94.133477</td>\n",
       "      <td>97.039828</td>\n",
       "      <td>Bailey High School      NaN\n",
       "Cabrera High Schoo...</td>\n",
       "    </tr>\n",
       "    <tr>\n",
       "      <th>Bailey High School</th>\n",
       "      <td>District</td>\n",
       "      <td>4976</td>\n",
       "      <td>$3,124,928.00</td>\n",
       "      <td>$628.00</td>\n",
       "      <td>77.048432</td>\n",
       "      <td>81.033963</td>\n",
       "      <td>66.680064</td>\n",
       "      <td>81.933280</td>\n",
       "      <td>Bailey High School      NaN\n",
       "Cabrera High Schoo...</td>\n",
       "    </tr>\n",
       "    <tr>\n",
       "      <th>Holden High School</th>\n",
       "      <td>Charter</td>\n",
       "      <td>427</td>\n",
       "      <td>$248,087.00</td>\n",
       "      <td>$581.00</td>\n",
       "      <td>83.803279</td>\n",
       "      <td>83.814988</td>\n",
       "      <td>92.505855</td>\n",
       "      <td>96.252927</td>\n",
       "      <td>Bailey High School      NaN\n",
       "Cabrera High Schoo...</td>\n",
       "    </tr>\n",
       "    <tr>\n",
       "      <th>Pena High School</th>\n",
       "      <td>Charter</td>\n",
       "      <td>962</td>\n",
       "      <td>$585,858.00</td>\n",
       "      <td>$609.00</td>\n",
       "      <td>83.839917</td>\n",
       "      <td>84.044699</td>\n",
       "      <td>94.594595</td>\n",
       "      <td>95.945946</td>\n",
       "      <td>Bailey High School      NaN\n",
       "Cabrera High Schoo...</td>\n",
       "    </tr>\n",
       "    <tr>\n",
       "      <th>Wright High School</th>\n",
       "      <td>Charter</td>\n",
       "      <td>1800</td>\n",
       "      <td>$1,049,400.00</td>\n",
       "      <td>$583.00</td>\n",
       "      <td>83.682222</td>\n",
       "      <td>83.955000</td>\n",
       "      <td>93.333333</td>\n",
       "      <td>96.611111</td>\n",
       "      <td>Bailey High School      NaN\n",
       "Cabrera High Schoo...</td>\n",
       "    </tr>\n",
       "    <tr>\n",
       "      <th>Rodriguez High School</th>\n",
       "      <td>District</td>\n",
       "      <td>3999</td>\n",
       "      <td>$2,547,363.00</td>\n",
       "      <td>$637.00</td>\n",
       "      <td>76.842711</td>\n",
       "      <td>80.744686</td>\n",
       "      <td>66.366592</td>\n",
       "      <td>80.220055</td>\n",
       "      <td>Bailey High School      NaN\n",
       "Cabrera High Schoo...</td>\n",
       "    </tr>\n",
       "    <tr>\n",
       "      <th>Johnson High School</th>\n",
       "      <td>District</td>\n",
       "      <td>4761</td>\n",
       "      <td>$3,094,650.00</td>\n",
       "      <td>$650.00</td>\n",
       "      <td>77.072464</td>\n",
       "      <td>80.966394</td>\n",
       "      <td>66.057551</td>\n",
       "      <td>81.222432</td>\n",
       "      <td>Bailey High School      NaN\n",
       "Cabrera High Schoo...</td>\n",
       "    </tr>\n",
       "    <tr>\n",
       "      <th>Ford High School</th>\n",
       "      <td>District</td>\n",
       "      <td>2739</td>\n",
       "      <td>$1,763,916.00</td>\n",
       "      <td>$644.00</td>\n",
       "      <td>77.102592</td>\n",
       "      <td>80.746258</td>\n",
       "      <td>68.309602</td>\n",
       "      <td>79.299014</td>\n",
       "      <td>Bailey High School      NaN\n",
       "Cabrera High Schoo...</td>\n",
       "    </tr>\n",
       "    <tr>\n",
       "      <th>Thomas High School</th>\n",
       "      <td>Charter</td>\n",
       "      <td>1635</td>\n",
       "      <td>$1,043,130.00</td>\n",
       "      <td>$638.00</td>\n",
       "      <td>83.418349</td>\n",
       "      <td>83.848930</td>\n",
       "      <td>93.272171</td>\n",
       "      <td>97.308869</td>\n",
       "      <td>Bailey High School      NaN\n",
       "Cabrera High Schoo...</td>\n",
       "    </tr>\n",
       "  </tbody>\n",
       "</table>\n",
       "</div>"
      ],
      "text/plain": [
       "                      School Type Total Students Total School Budget  \\\n",
       "Huang High School        District           2917       $1,910,635.00   \n",
       "Figueroa High School     District           2949       $1,884,411.00   \n",
       "Shelton High School       Charter           1761       $1,056,600.00   \n",
       "Hernandez High School    District           4635       $3,022,020.00   \n",
       "Griffin High School       Charter           1468         $917,500.00   \n",
       "Wilson High School        Charter           2283       $1,319,574.00   \n",
       "Cabrera High School       Charter           1858       $1,081,356.00   \n",
       "Bailey High School       District           4976       $3,124,928.00   \n",
       "Holden High School        Charter            427         $248,087.00   \n",
       "Pena High School          Charter            962         $585,858.00   \n",
       "Wright High School        Charter           1800       $1,049,400.00   \n",
       "Rodriguez High School    District           3999       $2,547,363.00   \n",
       "Johnson High School      District           4761       $3,094,650.00   \n",
       "Ford High School         District           2739       $1,763,916.00   \n",
       "Thomas High School        Charter           1635       $1,043,130.00   \n",
       "\n",
       "                      Per Student Budget Average Math Score  \\\n",
       "Huang High School                $655.00          76.629414   \n",
       "Figueroa High School             $639.00          76.711767   \n",
       "Shelton High School              $600.00          83.359455   \n",
       "Hernandez High School            $652.00          77.289752   \n",
       "Griffin High School              $625.00          83.351499   \n",
       "Wilson High School               $578.00          83.274201   \n",
       "Cabrera High School              $582.00          83.061895   \n",
       "Bailey High School               $628.00          77.048432   \n",
       "Holden High School               $581.00          83.803279   \n",
       "Pena High School                 $609.00          83.839917   \n",
       "Wright High School               $583.00          83.682222   \n",
       "Rodriguez High School            $637.00          76.842711   \n",
       "Johnson High School              $650.00          77.072464   \n",
       "Ford High School                 $644.00          77.102592   \n",
       "Thomas High School               $638.00          83.418349   \n",
       "\n",
       "                      Average Reading Score % Passing Math % Passing Reading  \\\n",
       "Huang High School                 81.182722      65.683922         81.316421   \n",
       "Figueroa High School              81.158020      65.988471         80.739234   \n",
       "Shelton High School               83.725724      93.867121         95.854628   \n",
       "Hernandez High School             80.934412      66.752967         80.862999   \n",
       "Griffin High School               83.816757      93.392371         97.138965   \n",
       "Wilson High School                83.989488      93.867718         96.539641   \n",
       "Cabrera High School               83.975780      94.133477         97.039828   \n",
       "Bailey High School                81.033963      66.680064         81.933280   \n",
       "Holden High School                83.814988      92.505855         96.252927   \n",
       "Pena High School                  84.044699      94.594595         95.945946   \n",
       "Wright High School                83.955000      93.333333         96.611111   \n",
       "Rodriguez High School             80.744686      66.366592         80.220055   \n",
       "Johnson High School               80.966394      66.057551         81.222432   \n",
       "Ford High School                  80.746258      68.309602         79.299014   \n",
       "Thomas High School                83.848930      93.272171         97.308869   \n",
       "\n",
       "                                                        %Overall Passing  \n",
       "Huang High School      Bailey High School      NaN\n",
       "Cabrera High Schoo...  \n",
       "Figueroa High School   Bailey High School      NaN\n",
       "Cabrera High Schoo...  \n",
       "Shelton High School    Bailey High School      NaN\n",
       "Cabrera High Schoo...  \n",
       "Hernandez High School  Bailey High School      NaN\n",
       "Cabrera High Schoo...  \n",
       "Griffin High School    Bailey High School      NaN\n",
       "Cabrera High Schoo...  \n",
       "Wilson High School     Bailey High School      NaN\n",
       "Cabrera High Schoo...  \n",
       "Cabrera High School    Bailey High School      NaN\n",
       "Cabrera High Schoo...  \n",
       "Bailey High School     Bailey High School      NaN\n",
       "Cabrera High Schoo...  \n",
       "Holden High School     Bailey High School      NaN\n",
       "Cabrera High Schoo...  \n",
       "Pena High School       Bailey High School      NaN\n",
       "Cabrera High Schoo...  \n",
       "Wright High School     Bailey High School      NaN\n",
       "Cabrera High Schoo...  \n",
       "Rodriguez High School  Bailey High School      NaN\n",
       "Cabrera High Schoo...  \n",
       "Johnson High School    Bailey High School      NaN\n",
       "Cabrera High Schoo...  \n",
       "Ford High School       Bailey High School      NaN\n",
       "Cabrera High Schoo...  \n",
       "Thomas High School     Bailey High School      NaN\n",
       "Cabrera High Schoo...  "
      ]
     },
     "execution_count": 26,
     "metadata": {},
     "output_type": "execute_result"
    }
   ],
   "source": [
    "# Create DataFrame for Calculations\n",
    "per_school_data = {\"School Type\": [\"District\", \"District\", \"Charter\", \"District\", \"Charter\", \"Charter\", \"Charter\",\n",
    "                                   \"District\", \"Charter\", \"Charter\", \"Charter\", \"District\", \"District\", \"District\", \"Charter\"],\n",
    "                   \"Total Students\": [\"2917\", \"2949\", \"1761\", \"4635\", \"1468\", \"2283\", \"1858\", \"4976\", \"427\", \"962\", \"1800\",\n",
    "                                      \"3999\", \"4761\", \"2739\", \"1635\"],\n",
    "                   \"Total School Budget\": [\"$1,910,635.00\", \"$1,884,411.00\", \"$1,056,600.00\", \"$3,022,020.00\", \"$917,500.00\", \"$1,319,574.00\", \n",
    "                                           \"$1,081,356.00\", \"$3,124,928.00\", \"$248,087.00\", \"$585,858.00\", \"$1,049,400.00\", \"$2,547,363.00\", \n",
    "                                           \"$3,094,650.00\", \"$1,763,916.00\", \"$1,043,130.00\"],\n",
    "                   \"Per Student Budget\": [\"$655.00\", \"$639.00\", \"$600.00\", \"$652.00\", \"$625.00\", \"$578.00\", \"$582.00\", \"$628.00\", \"$581.00\",\n",
    "                                          \"$609.00\", \"$583.00\", \"$637.00\", \"$650.00\", \"$644.00\", \"$638.00\"],\n",
    "                   \"Average Math Score\": [\"76.629414\", \"76.711767\", \"83.359455\", \"77.289752\", \"83.351499\", \"83.274201\",\n",
    "                                          \"83.061895\", \"77.048432\", \"83.803279\", \"83.839917\", \"83.682222\", \"76.842711\",\n",
    "                                          \"77.072464\", \"77.102592\", \"83.418349\"],\n",
    "                   \"Average Reading Score\": [\"81.182722\", \"81.158020\", \"83.725724\", \"80.934412\", \"83.816757\", \"83.989488\",\n",
    "                                             \"83.975780\", \"81.033963\", \"83.814988\", \"84.044699\", \"83.955000\", \"80.744686\",\n",
    "                                             \"80.966394\", \"80.746258\", \"83.848930\"],\n",
    "                   \"% Passing Math\": [\"65.683922\", \"65.988471\", \"93.867121\", \"66.752967\", \"93.392371\", \"93.867718\",\n",
    "                                      \"94.133477\", \"66.680064\", \"92.505855\", \"94.594595\", \"93.333333\", \"66.366592\",\n",
    "                                      \"66.057551\", \"68.309602\", \"93.272171\"],\n",
    "                   \"% Passing Reading\": [\"81.316421\", \"80.739234\", \"95.854628\", \"80.862999\", \"97.138965\", \"96.539641\",\n",
    "                                         \"97.039828\", \"81.933280\", \"96.252927\", \"95.945946\", \"96.611111\", \"80.220055\",\n",
    "                                         \"81.222432\", \"79.299014\", \"97.308869\"],\n",
    "                   \"%Overall Passing\": [overall_passing_rate]}\n",
    "per_school_summary = pd.DataFrame(per_school_data, index = [\"Huang High School\", \"Figueroa High School\", \"Shelton High School\",\n",
    "                                                            \"Hernandez High School\", \"Griffin High School\", \"Wilson High School\",\n",
    "                                                            \"Cabrera High School\", \"Bailey High School\", \"Holden High School\",\n",
    "                                                            \"Pena High School\", \"Wright High School\", \"Rodriguez High School\",\n",
    "                                                            \"Johnson High School\", \"Ford High School\", \"Thomas High School\"])\n",
    "per_school_summary"
   ]
  },
  {
   "cell_type": "markdown",
   "id": "0c7f6166",
   "metadata": {},
   "source": [
    "## Highest-Performing Schools (by % Overall Passing)"
   ]
  },
  {
   "cell_type": "code",
   "execution_count": null,
   "id": "1335e637",
   "metadata": {},
   "outputs": [],
   "source": [
    "# Sort the Schools by `% Overall Passing` and Display Top 5 Schools\n",
    "top_schools = \n",
    "top_schools.head(5)"
   ]
  },
  {
   "cell_type": "markdown",
   "id": "40754e66",
   "metadata": {},
   "source": [
    "## Lowest-Performing Schools (by % Overall Passing)"
   ]
  },
  {
   "cell_type": "code",
   "execution_count": null,
   "id": "0af9c059",
   "metadata": {},
   "outputs": [],
   "source": [
    "# Sort the Schools by `% Overall Passing` and Display the Bottom 5 Schools\n",
    "bottom_schools = \n",
    "bottom_schools.head(5)"
   ]
  },
  {
   "cell_type": "markdown",
   "id": "795fe171",
   "metadata": {},
   "source": [
    "## Math Scores by Grade"
   ]
  },
  {
   "cell_type": "code",
   "execution_count": null,
   "id": "27c68b03",
   "metadata": {},
   "outputs": [],
   "source": [
    "# Separate Data by Grade\n",
    "ninth_graders = school_data_complete[(school_data_complete[\"grade\"] == \"9th\")]\n",
    "tenth_graders = school_data_complete[(school_data_complete[\"grade\"] == \"10th\")]\n",
    "eleventh_graders = school_data_complete[(school_data_complete[\"grade\"] == \"11th\")]\n",
    "twelfth_graders = school_data_complete[(school_data_complete[\"grade\"] == \"12th\")]\n",
    "\n",
    "# Group by School Name and Calculate Mean of Math Scores\n",
    "ninth_grade_math_scores = \n",
    "tenth_grader_math_scores = \n",
    "eleventh_grader_math_scores = \n",
    "twelfth_grader_math_scores = \n",
    "\n",
    "# Combine Scores into DataFrame\n",
    "math_scores_by_grade = \n",
    "\n",
    "# Data Wrangling\n",
    "math_scores_by_grade.index.name = None\n",
    "\n",
    "# Display DataFrame\n",
    "math_scores_by_grade"
   ]
  },
  {
   "cell_type": "markdown",
   "id": "308d4234",
   "metadata": {},
   "source": [
    "## Reading Scores by Grade"
   ]
  },
  {
   "cell_type": "code",
   "execution_count": null,
   "id": "0f205523",
   "metadata": {},
   "outputs": [],
   "source": [
    "# Separate Data by Grade\n",
    "ninth_graders = school_data_complete[(school_data_complete[\"grade\"] == \"9th\")]\n",
    "tenth_graders = school_data_complete[(school_data_complete[\"grade\"] == \"10th\")]\n",
    "eleventh_graders = school_data_complete[(school_data_complete[\"grade\"] == \"11th\")]\n",
    "twelfth_graders = school_data_complete[(school_data_complete[\"grade\"] == \"12th\")]\n",
    "\n",
    "# Group by School Name and Calculate Mean of Reading Scores\n",
    "ninth_grade_reading_scores = \n",
    "tenth_grader_reading_scores = \n",
    "eleventh_grader_reading_scores = \n",
    "twelfth_grader_reading_scores = \n",
    "\n",
    "# Combine Scores into DataFrame\n",
    "reading_scores_by_grade = \n",
    "\n",
    "# Data Wrangling\n",
    "reading_scores_by_grade = reading_scores_by_grade[[\"9th\", \"10th\", \"11th\", \"12th\"]]\n",
    "reading_scores_by_grade.index.name = None\n",
    "\n",
    "# Display DataFrame\n",
    "reading_scores_by_grade"
   ]
  },
  {
   "cell_type": "markdown",
   "id": "2a0c14e6",
   "metadata": {},
   "source": [
    "## Scores by School Spending"
   ]
  },
  {
   "cell_type": "code",
   "execution_count": null,
   "id": "9b891066",
   "metadata": {},
   "outputs": [],
   "source": [
    "# Establish Bins \n",
    "spending_bins = [0, 585, 630, 645, 680]\n",
    "labels = [\"<$585\", \"$585-630\", \"$630-645\", \"$645-680\"]"
   ]
  },
  {
   "cell_type": "code",
   "execution_count": null,
   "id": "ddcf774c",
   "metadata": {},
   "outputs": [],
   "source": [
    "# Create Copy of the School Summary\n",
    "school_spending_df = per_school_summary.copy()"
   ]
  },
  {
   "cell_type": "code",
   "execution_count": null,
   "id": "4b61b97b",
   "metadata": {},
   "outputs": [],
   "source": [
    "# Categorize Spending Based on the Bins\n",
    "school_spending_df[\"Spending Ranges (Per Student)\"] = \n",
    "school_spending_df"
   ]
  },
  {
   "cell_type": "code",
   "execution_count": null,
   "id": "f87c288d",
   "metadata": {},
   "outputs": [],
   "source": [
    "# Calculate Averages for Columns\n",
    "spending_math_scores = school_spending_df.groupby([\"Spending Ranges (Per Student)\"])[\"Average Math Score\"].mean()\n",
    "spending_reading_scores = school_spending_df.groupby([\"Spending Ranges (Per Student)\"])[\"Average Reading Score\"].mean()\n",
    "spending_passing_math = school_spending_df.groupby([\"Spending Ranges (Per Student)\"])[\"% Passing Math\"].mean()\n",
    "spending_passing_reading = school_spending_df.groupby([\"Spending Ranges (Per Student)\"])[\"% Passing Reading\"].mean()\n",
    "overall_passing_spending = school_spending_df.groupby([\"Spending Ranges (Per Student)\"])[\"% Overall Passing\"].mean()"
   ]
  },
  {
   "cell_type": "code",
   "execution_count": null,
   "id": "9e2adfa1",
   "metadata": {},
   "outputs": [],
   "source": [
    "# Assemble DataFrame\n",
    "spending_summary = \n",
    "\n",
    "# Display Results\n",
    "spending_summary"
   ]
  },
  {
   "cell_type": "markdown",
   "id": "b35ff7a5",
   "metadata": {},
   "source": [
    "## Scores by School Size"
   ]
  },
  {
   "cell_type": "code",
   "execution_count": null,
   "id": "30cdd2db",
   "metadata": {},
   "outputs": [],
   "source": [
    "# Establish Bins\n",
    "size_bins = [0, 1000, 2000, 5000]\n",
    "labels = [\"Small (<1000)\", \"Medium (1000-2000)\", \"Large (2000-5000)\"]"
   ]
  },
  {
   "cell_type": "code",
   "execution_count": null,
   "id": "feab1b7d",
   "metadata": {},
   "outputs": [],
   "source": [
    "# Categorize Spending Based on the Bins\n",
    "per_school_summary[\"School Size\"] = \n",
    "per_school_summary"
   ]
  },
  {
   "cell_type": "code",
   "execution_count": null,
   "id": "76dbf78a",
   "metadata": {},
   "outputs": [],
   "source": [
    "# Calculate Averages for Columns\n",
    "size_math_scores = per_school_summary.groupby([\"School Size\"])[\"Average Math Score\"].mean()\n",
    "size_reading_scores = per_school_summary.groupby([\"School Size\"])[\"Average Reading Score\"].mean()\n",
    "size_passing_math = per_school_summary.groupby([\"School Size\"])[\"% Passing Math\"].mean()\n",
    "size_passing_reading = per_school_summary.groupby([\"School Size\"])[\"% Passing Reading\"].mean()\n",
    "size_overall_passing = per_school_summary.groupby([\"School Size\"])[\"% Overall Passing\"].mean()"
   ]
  },
  {
   "cell_type": "code",
   "execution_count": null,
   "id": "50c1743d",
   "metadata": {},
   "outputs": [],
   "source": [
    "# Use Scores to Create New DataFrame\n",
    "size_summary = \n",
    "\n",
    "# Display Results\n",
    "size_summary"
   ]
  },
  {
   "cell_type": "markdown",
   "id": "dc14a109",
   "metadata": {},
   "source": [
    "## Scores by School Type"
   ]
  },
  {
   "cell_type": "code",
   "execution_count": null,
   "id": "bd55bc90",
   "metadata": {},
   "outputs": [],
   "source": [
    "# Group DataFrame by School Type and Average Results\n",
    "average_math_score_by_type = per_school_summary.groupby([\"School Type\"])[\"Average Math Score\"].mean()\n",
    "average_reading_score_by_type = per_school_summary.groupby([\"School Type\"])[\"Average Reading Score\"].mean()\n",
    "average_percent_passing_math_by_type = per_school_summary.groupby([\"School Type\"])[\"% Passing Math\"].mean()\n",
    "average_percent_passing_reading_by_type = per_school_summary.groupby([\"School Type\"])[\"% Passing Reading\"].mean()\n",
    "average_percent_overall_passing_by_type = per_school_summary.groupby([\"School Type\"])[\"% Overall Passing\"].mean()"
   ]
  },
  {
   "cell_type": "code",
   "execution_count": null,
   "id": "91fe8bce",
   "metadata": {},
   "outputs": [],
   "source": [
    "# Assemble Data by Type into DataFrame\n",
    "type_summary = \n",
    "\n",
    "# Display Results\n",
    "type_summary"
   ]
  }
 ],
 "metadata": {
  "kernelspec": {
   "display_name": "Python 3 (ipykernel)",
   "language": "python",
   "name": "python3"
  },
  "language_info": {
   "codemirror_mode": {
    "name": "ipython",
    "version": 3
   },
   "file_extension": ".py",
   "mimetype": "text/x-python",
   "name": "python",
   "nbconvert_exporter": "python",
   "pygments_lexer": "ipython3",
   "version": "3.11.5"
  }
 },
 "nbformat": 4,
 "nbformat_minor": 5
}
